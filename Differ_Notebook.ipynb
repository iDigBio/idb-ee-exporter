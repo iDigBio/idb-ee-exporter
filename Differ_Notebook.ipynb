{
 "cells": [
  {
   "cell_type": "code",
   "execution_count": 1,
   "metadata": {
    "collapsed": true
   },
   "outputs": [],
   "source": [
    "from pyspark.sql.functions import col, dayofmonth, max, month, year"
   ]
  },
  {
   "cell_type": "code",
   "execution_count": 2,
   "metadata": {
    "collapsed": false
   },
   "outputs": [],
   "source": [
    "t1_df = sqlContext.read.parquet(\"/guoda/data/idigbio-20180414T023309.parquet\").withColumnRenamed(\"uuid\", \"t1_uuid\")\n",
    "t2_df = sqlContext.read.parquet(\"/guoda/data/idigbio-20180519T023311.parquet\").withColumnRenamed(\"uuid\", \"t2_uuid\")\n"
   ]
  },
  {
   "cell_type": "markdown",
   "metadata": {},
   "source": [
    "No hope of using the existing small datasets here since the selected records are completely different every time. (Remember Nicky's suggestion that we should sort by UUID (ie random sort) and take the top ones or some other semi-determinant method that results in a good cross-section of data that is kind of stable.)\n",
    "\n",
    "Things were going great except for the last part about add vs change and computation time got to be a drag experimenting with things. Make some smaller data sets to work with."
   ]
  },
  {
   "cell_type": "code",
   "execution_count": 3,
   "metadata": {
    "collapsed": true
   },
   "outputs": [],
   "source": [
    "# With these two test sets, adds and deletes are the same number of records.\n",
    "#t1_df = sqlContext.read.parquet(\"/outputs/idigbio-20180414T023309-1Msorted.parquet\").withColumnRenamed(\"uuid\", \"t1_uuid\")\n",
    "#t2_df = sqlContext.read.parquet(\"/outputs/idigbio-20180519T023311-1Msorted.parquet\").withColumnRenamed(\"uuid\", \"t2_uuid\")\n"
   ]
  },
  {
   "cell_type": "code",
   "execution_count": 4,
   "metadata": {
    "collapsed": false,
    "scrolled": true
   },
   "outputs": [
    {
     "name": "stdout",
     "output_type": "stream",
     "text": [
      "root\n",
      " |-- barcodevalue: string (nullable = true)\n",
      " |-- basisofrecord: string (nullable = true)\n",
      " |-- bed: string (nullable = true)\n",
      " |-- canonicalname: string (nullable = true)\n",
      " |-- catalognumber: string (nullable = true)\n",
      " |-- class: string (nullable = true)\n",
      " |-- collectioncode: string (nullable = true)\n",
      " |-- collectionid: string (nullable = true)\n",
      " |-- collectionname: string (nullable = true)\n",
      " |-- collector: string (nullable = true)\n",
      " |-- commonname: string (nullable = true)\n",
      " |-- continent: string (nullable = true)\n",
      " |-- coordinateuncertainty: float (nullable = true)\n",
      " |-- country: string (nullable = true)\n",
      " |-- countrycode: string (nullable = true)\n",
      " |-- county: string (nullable = true)\n",
      " |-- data: struct (nullable = true)\n",
      " |    |-- coreid: string (nullable = true)\n",
      " |    |-- dc:rights: string (nullable = true)\n",
      " |    |-- dcterms:accessRights: string (nullable = true)\n",
      " |    |-- dcterms:bibliographicCitation: string (nullable = true)\n",
      " |    |-- dcterms:language: string (nullable = true)\n",
      " |    |-- dcterms:license: string (nullable = true)\n",
      " |    |-- dcterms:modified: string (nullable = true)\n",
      " |    |-- dcterms:references: string (nullable = true)\n",
      " |    |-- dcterms:rights: string (nullable = true)\n",
      " |    |-- dcterms:rightsHolder: string (nullable = true)\n",
      " |    |-- dcterms:source: string (nullable = true)\n",
      " |    |-- dcterms:type: string (nullable = true)\n",
      " |    |-- dwc:VerbatimEventDate: string (nullable = true)\n",
      " |    |-- dwc:acceptedNameUsage: string (nullable = true)\n",
      " |    |-- dwc:accessRights: string (nullable = true)\n",
      " |    |-- dwc:associatedMedia: string (nullable = true)\n",
      " |    |-- dwc:associatedOccurrences: string (nullable = true)\n",
      " |    |-- dwc:associatedOrganisms: string (nullable = true)\n",
      " |    |-- dwc:associatedReferences: string (nullable = true)\n",
      " |    |-- dwc:associatedSequences: string (nullable = true)\n",
      " |    |-- dwc:associatedTaxa: string (nullable = true)\n",
      " |    |-- dwc:basisOfRecord: string (nullable = true)\n",
      " |    |-- dwc:bed: string (nullable = true)\n",
      " |    |-- dwc:behavior: string (nullable = true)\n",
      " |    |-- dwc:catalogNumber: string (nullable = true)\n",
      " |    |-- dwc:class: string (nullable = true)\n",
      " |    |-- dwc:classs: string (nullable = true)\n",
      " |    |-- dwc:collectionCode: string (nullable = true)\n",
      " |    |-- dwc:collectionID: string (nullable = true)\n",
      " |    |-- dwc:continent: string (nullable = true)\n",
      " |    |-- dwc:coordinatePrecision: string (nullable = true)\n",
      " |    |-- dwc:coordinateUncertaintyInMeters: string (nullable = true)\n",
      " |    |-- dwc:country: string (nullable = true)\n",
      " |    |-- dwc:countryCode: string (nullable = true)\n",
      " |    |-- dwc:county: string (nullable = true)\n",
      " |    |-- dwc:dataGeneralizations: string (nullable = true)\n",
      " |    |-- dwc:datasetID: string (nullable = true)\n",
      " |    |-- dwc:datasetName: string (nullable = true)\n",
      " |    |-- dwc:dateIdentified: string (nullable = true)\n",
      " |    |-- dwc:day: string (nullable = true)\n",
      " |    |-- dwc:decimalLatitude: string (nullable = true)\n",
      " |    |-- dwc:decimalLongitude: string (nullable = true)\n",
      " |    |-- dwc:disposition: string (nullable = true)\n",
      " |    |-- dwc:dynamicProperties: string (nullable = true)\n",
      " |    |-- dwc:earliestAgeOrLowestStage: string (nullable = true)\n",
      " |    |-- dwc:earliestEonOrLowestEonothem: string (nullable = true)\n",
      " |    |-- dwc:earliestEpochOrLowestSeries: string (nullable = true)\n",
      " |    |-- dwc:earliestEraOrLowestErathem: string (nullable = true)\n",
      " |    |-- dwc:earliestPeriodOrLowestSystem: string (nullable = true)\n",
      " |    |-- dwc:endDayOfYear: string (nullable = true)\n",
      " |    |-- dwc:establishmentMeans: string (nullable = true)\n",
      " |    |-- dwc:eventDate: string (nullable = true)\n",
      " |    |-- dwc:eventID: string (nullable = true)\n",
      " |    |-- dwc:eventRemarks: string (nullable = true)\n",
      " |    |-- dwc:eventTime: string (nullable = true)\n",
      " |    |-- dwc:family: string (nullable = true)\n",
      " |    |-- dwc:fieldNotes: string (nullable = true)\n",
      " |    |-- dwc:fieldNumber: string (nullable = true)\n",
      " |    |-- dwc:footprintSRS: string (nullable = true)\n",
      " |    |-- dwc:footprintSpatialFit: string (nullable = true)\n",
      " |    |-- dwc:footprintWKT: string (nullable = true)\n",
      " |    |-- dwc:formation: string (nullable = true)\n",
      " |    |-- dwc:genus: string (nullable = true)\n",
      " |    |-- dwc:geodeticDatum: string (nullable = true)\n",
      " |    |-- dwc:geologicalContextID: string (nullable = true)\n",
      " |    |-- dwc:georeferenceProtocol: string (nullable = true)\n",
      " |    |-- dwc:georeferenceRemarks: string (nullable = true)\n",
      " |    |-- dwc:georeferenceSources: string (nullable = true)\n",
      " |    |-- dwc:georeferenceVerificationStatus: string (nullable = true)\n",
      " |    |-- dwc:georeferencedBy: string (nullable = true)\n",
      " |    |-- dwc:georeferencedDate: string (nullable = true)\n",
      " |    |-- dwc:group: string (nullable = true)\n",
      " |    |-- dwc:habitat: string (nullable = true)\n",
      " |    |-- dwc:higherClassification: string (nullable = true)\n",
      " |    |-- dwc:higherGeography: string (nullable = true)\n",
      " |    |-- dwc:higherGeographyID: string (nullable = true)\n",
      " |    |-- dwc:highestBiostratigraphicZone: string (nullable = true)\n",
      " |    |-- dwc:identificationID: string (nullable = true)\n",
      " |    |-- dwc:identificationQualifier: string (nullable = true)\n",
      " |    |-- dwc:identificationReferences: string (nullable = true)\n",
      " |    |-- dwc:identificationRemarks: string (nullable = true)\n",
      " |    |-- dwc:identificationVerificationStatus: string (nullable = true)\n",
      " |    |-- dwc:identifiedBy: string (nullable = true)\n",
      " |    |-- dwc:individualCount: string (nullable = true)\n",
      " |    |-- dwc:informationWithheld: string (nullable = true)\n",
      " |    |-- dwc:infraspecificEpithet: string (nullable = true)\n",
      " |    |-- dwc:institutionCode: string (nullable = true)\n",
      " |    |-- dwc:institutionID: string (nullable = true)\n",
      " |    |-- dwc:island: string (nullable = true)\n",
      " |    |-- dwc:islandGroup: string (nullable = true)\n",
      " |    |-- dwc:kingdom: string (nullable = true)\n",
      " |    |-- dwc:language: string (nullable = true)\n",
      " |    |-- dwc:latestAgeOrHighestStage: string (nullable = true)\n",
      " |    |-- dwc:latestEonOrHighestEonothem: string (nullable = true)\n",
      " |    |-- dwc:latestEpochOrHighestSeries: string (nullable = true)\n",
      " |    |-- dwc:latestEraOrHighestErathem: string (nullable = true)\n",
      " |    |-- dwc:latestPeriodOrHighestSystem: string (nullable = true)\n",
      " |    |-- dwc:lifeStage: string (nullable = true)\n",
      " |    |-- dwc:lithostratigraphicTerms: string (nullable = true)\n",
      " |    |-- dwc:locality: string (nullable = true)\n",
      " |    |-- dwc:locationAccordingTo: string (nullable = true)\n",
      " |    |-- dwc:locationID: string (nullable = true)\n",
      " |    |-- dwc:locationRemarks: string (nullable = true)\n",
      " |    |-- dwc:lowestBiostratigraphicZone: string (nullable = true)\n",
      " |    |-- dwc:materialSampleID: string (nullable = true)\n",
      " |    |-- dwc:maximumDepthInMeters: string (nullable = true)\n",
      " |    |-- dwc:maximumElevationInMeters: string (nullable = true)\n",
      " |    |-- dwc:member: string (nullable = true)\n",
      " |    |-- dwc:minimumDepthInMeters: string (nullable = true)\n",
      " |    |-- dwc:minimumElevationInMeters: string (nullable = true)\n",
      " |    |-- dwc:modified: string (nullable = true)\n",
      " |    |-- dwc:month: string (nullable = true)\n",
      " |    |-- dwc:municipality: string (nullable = true)\n",
      " |    |-- dwc:nameAccordingTo: string (nullable = true)\n",
      " |    |-- dwc:nameAccordingToID: string (nullable = true)\n",
      " |    |-- dwc:namePublishedIn: string (nullable = true)\n",
      " |    |-- dwc:namePublishedInID: string (nullable = true)\n",
      " |    |-- dwc:namePublishedInYear: string (nullable = true)\n",
      " |    |-- dwc:nomenclaturalCode: string (nullable = true)\n",
      " |    |-- dwc:nomenclaturalStatus: string (nullable = true)\n",
      " |    |-- dwc:occurrenceDetails: string (nullable = true)\n",
      " |    |-- dwc:occurrenceID: string (nullable = true)\n",
      " |    |-- dwc:occurrenceRemarks: string (nullable = true)\n",
      " |    |-- dwc:occurrenceStatus: string (nullable = true)\n",
      " |    |-- dwc:order: string (nullable = true)\n",
      " |    |-- dwc:organismID: string (nullable = true)\n",
      " |    |-- dwc:organismName: string (nullable = true)\n",
      " |    |-- dwc:organismQuantity: string (nullable = true)\n",
      " |    |-- dwc:organismQuantityType: string (nullable = true)\n",
      " |    |-- dwc:originalNameUsage: string (nullable = true)\n",
      " |    |-- dwc:otherCatalogNumbers: string (nullable = true)\n",
      " |    |-- dwc:ownerInstitutionCode: string (nullable = true)\n",
      " |    |-- dwc:parentNameUsage: string (nullable = true)\n",
      " |    |-- dwc:phylum: string (nullable = true)\n",
      " |    |-- dwc:pointRadiusSpatialFit: string (nullable = true)\n",
      " |    |-- dwc:preparations: string (nullable = true)\n",
      " |    |-- dwc:previousIdentifications: string (nullable = true)\n",
      " |    |-- dwc:recordNumber: string (nullable = true)\n",
      " |    |-- dwc:recordedBy: string (nullable = true)\n",
      " |    |-- dwc:reproductiveCondition: string (nullable = true)\n",
      " |    |-- dwc:rights: string (nullable = true)\n",
      " |    |-- dwc:rightsHolder: string (nullable = true)\n",
      " |    |-- dwc:samplingEffort: string (nullable = true)\n",
      " |    |-- dwc:samplingProtocol: string (nullable = true)\n",
      " |    |-- dwc:scientificName: string (nullable = true)\n",
      " |    |-- dwc:scientificNameAuthorship: string (nullable = true)\n",
      " |    |-- dwc:scientificNameID: string (nullable = true)\n",
      " |    |-- dwc:sex: string (nullable = true)\n",
      " |    |-- dwc:specificEpithet: string (nullable = true)\n",
      " |    |-- dwc:startDayOfYear: string (nullable = true)\n",
      " |    |-- dwc:stateProvince: string (nullable = true)\n",
      " |    |-- dwc:subgenus: string (nullable = true)\n",
      " |    |-- dwc:taxonID: string (nullable = true)\n",
      " |    |-- dwc:taxonRank: string (nullable = true)\n",
      " |    |-- dwc:taxonRemarks: string (nullable = true)\n",
      " |    |-- dwc:taxonomicStatus: string (nullable = true)\n",
      " |    |-- dwc:typeStatus: string (nullable = true)\n",
      " |    |-- dwc:verbatimCoordinateSystem: string (nullable = true)\n",
      " |    |-- dwc:verbatimCoordinates: string (nullable = true)\n",
      " |    |-- dwc:verbatimDepth: string (nullable = true)\n",
      " |    |-- dwc:verbatimElevation: string (nullable = true)\n",
      " |    |-- dwc:verbatimEventDate: string (nullable = true)\n",
      " |    |-- dwc:verbatimLatitude: string (nullable = true)\n",
      " |    |-- dwc:verbatimLocality: string (nullable = true)\n",
      " |    |-- dwc:verbatimLongitude: string (nullable = true)\n",
      " |    |-- dwc:verbatimSRS: string (nullable = true)\n",
      " |    |-- dwc:verbatimTaxonRank: string (nullable = true)\n",
      " |    |-- dwc:vernacularName: string (nullable = true)\n",
      " |    |-- dwc:waterBody: string (nullable = true)\n",
      " |    |-- dwc:year: string (nullable = true)\n",
      " |    |-- id: string (nullable = true)\n",
      " |    |-- idigbio:recordId: string (nullable = true)\n",
      " |    |-- symbiota:recordEnteredBy: string (nullable = true)\n",
      " |    |-- symbiota:verbatimScientificName: string (nullable = true)\n",
      " |-- datasetid: string (nullable = true)\n",
      " |-- datecollected: timestamp (nullable = true)\n",
      " |-- datemodified: timestamp (nullable = true)\n",
      " |-- dqs: float (nullable = true)\n",
      " |-- earliestageorloweststage: string (nullable = true)\n",
      " |-- earliesteonorlowesteonothem: string (nullable = true)\n",
      " |-- earliestepochorlowestseries: string (nullable = true)\n",
      " |-- earliesteraorlowesterathem: string (nullable = true)\n",
      " |-- earliestperiodorlowestsystem: string (nullable = true)\n",
      " |-- etag: string (nullable = true)\n",
      " |-- eventdate: string (nullable = true)\n",
      " |-- family: string (nullable = true)\n",
      " |-- fieldnumber: string (nullable = true)\n",
      " |-- formation: string (nullable = true)\n",
      " |-- genus: string (nullable = true)\n",
      " |-- geologicalcontextid: string (nullable = true)\n",
      " |-- geopoint: struct (nullable = true)\n",
      " |    |-- lat: double (nullable = true)\n",
      " |    |-- lon: double (nullable = true)\n",
      " |-- group: string (nullable = true)\n",
      " |-- hasImage: boolean (nullable = true)\n",
      " |-- hasMedia: boolean (nullable = true)\n",
      " |-- highertaxon: string (nullable = true)\n",
      " |-- highestbiostratigraphiczone: string (nullable = true)\n",
      " |-- individualcount: float (nullable = true)\n",
      " |-- infraspecificepithet: string (nullable = true)\n",
      " |-- institutioncode: string (nullable = true)\n",
      " |-- institutionid: string (nullable = true)\n",
      " |-- institutionname: string (nullable = true)\n",
      " |-- kingdom: string (nullable = true)\n",
      " |-- latestageorhigheststage: string (nullable = true)\n",
      " |-- latesteonorhighesteonothem: string (nullable = true)\n",
      " |-- latestepochorhighestseries: string (nullable = true)\n",
      " |-- latesteraorhighesterathem: string (nullable = true)\n",
      " |-- latestperiodorhighestsystem: string (nullable = true)\n",
      " |-- lithostratigraphicterms: string (nullable = true)\n",
      " |-- locality: string (nullable = true)\n",
      " |-- lowestbiostratigraphiczone: string (nullable = true)\n",
      " |-- maxdepth: float (nullable = true)\n",
      " |-- maxelevation: float (nullable = true)\n",
      " |-- member: string (nullable = true)\n",
      " |-- mindepth: float (nullable = true)\n",
      " |-- minelevation: float (nullable = true)\n",
      " |-- municipality: string (nullable = true)\n",
      " |-- occurrenceid: string (nullable = true)\n",
      " |-- order: string (nullable = true)\n",
      " |-- phylum: string (nullable = true)\n",
      " |-- recordnumber: string (nullable = true)\n",
      " |-- recordset: string (nullable = true)\n",
      " |-- scientificname: string (nullable = true)\n",
      " |-- specificepithet: string (nullable = true)\n",
      " |-- startdayofyear: integer (nullable = true)\n",
      " |-- stateprovince: string (nullable = true)\n",
      " |-- taxonid: string (nullable = true)\n",
      " |-- taxonomicstatus: string (nullable = true)\n",
      " |-- taxonrank: string (nullable = true)\n",
      " |-- typestatus: string (nullable = true)\n",
      " |-- t1_uuid: string (nullable = true)\n",
      " |-- verbatimeventdate: string (nullable = true)\n",
      " |-- verbatimlocality: string (nullable = true)\n",
      " |-- version: integer (nullable = true)\n",
      " |-- waterbody: string (nullable = true)\n",
      "\n"
     ]
    }
   ],
   "source": [
    "t1_df.printSchema()"
   ]
  },
  {
   "cell_type": "markdown",
   "metadata": {},
   "source": [
    "## Deletes"
   ]
  },
  {
   "cell_type": "code",
   "execution_count": 5,
   "metadata": {
    "collapsed": false
   },
   "outputs": [],
   "source": [
    "deleted = (t1_df\n",
    "           .join(t2_df.select(col(\"t2_uuid\")),\n",
    "                col(\"t1_uuid\") == col(\"t2_uuid\"), how=\"left\")\n",
    "           .filter(col(\"t2_uuid\").isNull())\n",
    "           )"
   ]
  },
  {
   "cell_type": "code",
   "execution_count": 6,
   "metadata": {
    "collapsed": false
   },
   "outputs": [
    {
     "name": "stdout",
     "output_type": "stream",
     "text": [
      "+------------------------------------+-------+\n",
      "|t1_uuid                             |t2_uuid|\n",
      "+------------------------------------+-------+\n",
      "|00005790-504e-47af-b8a9-6309f4a9ad52|null   |\n",
      "|00058994-6235-4a37-a620-5601f78461d7|null   |\n",
      "|0005e843-ffeb-4683-8ea1-2ba75f548b26|null   |\n",
      "+------------------------------------+-------+\n",
      "only showing top 3 rows\n",
      "\n"
     ]
    }
   ],
   "source": [
    "deleted.select(col(\"t1_uuid\"), col(\"t2_uuid\")).orderBy(col(\"t1_uuid\")).show(3, truncate=False)"
   ]
  },
  {
   "cell_type": "code",
   "execution_count": 7,
   "metadata": {
    "collapsed": true
   },
   "outputs": [],
   "source": [
    "a_deleted_uuid = \"00005790-504e-47af-b8a9-6309f4a9ad52\""
   ]
  },
  {
   "cell_type": "code",
   "execution_count": 8,
   "metadata": {
    "collapsed": false
   },
   "outputs": [
    {
     "name": "stdout",
     "output_type": "stream",
     "text": [
      "75651\n"
     ]
    }
   ],
   "source": [
    "print(deleted.count())"
   ]
  },
  {
   "cell_type": "markdown",
   "metadata": {},
   "source": [
    "Make sure we got the join in the right direction, look for a \"deleted\" uuid in the second data frame, should not be there."
   ]
  },
  {
   "cell_type": "code",
   "execution_count": 11,
   "metadata": {
    "collapsed": false
   },
   "outputs": [
    {
     "name": "stdout",
     "output_type": "stream",
     "text": [
      "+-------+\n",
      "|t2_uuid|\n",
      "+-------+\n",
      "+-------+\n",
      "\n"
     ]
    }
   ],
   "source": [
    "(t2_df\n",
    " .filter(col(\"t2_uuid\") == a_deleted_uuid)\n",
    " .select(col(\"t2_uuid\"))\n",
    " .show()\n",
    ")"
   ]
  },
  {
   "cell_type": "markdown",
   "metadata": {},
   "source": [
    "And look for it in the first data frame, it should be there:"
   ]
  },
  {
   "cell_type": "code",
   "execution_count": 12,
   "metadata": {
    "collapsed": false
   },
   "outputs": [
    {
     "name": "stdout",
     "output_type": "stream",
     "text": [
      "+--------------------+\n",
      "|             t1_uuid|\n",
      "+--------------------+\n",
      "|00005790-504e-47a...|\n",
      "+--------------------+\n",
      "\n"
     ]
    }
   ],
   "source": [
    "(t1_df\n",
    " .filter(col(\"t1_uuid\") == a_deleted_uuid)\n",
    " .select(col(\"t1_uuid\"))\n",
    " .show()\n",
    ")"
   ]
  },
  {
   "cell_type": "markdown",
   "metadata": {},
   "source": [
    "## Adds"
   ]
  },
  {
   "cell_type": "code",
   "execution_count": 13,
   "metadata": {
    "collapsed": false
   },
   "outputs": [],
   "source": [
    "added = (t2_df\n",
    "           .join(t1_df.select(col(\"t1_uuid\")),\n",
    "                col(\"t1_uuid\") == col(\"t2_uuid\"), how=\"left\")\n",
    "           .filter(col(\"t1_uuid\").isNull())\n",
    "           )"
   ]
  },
  {
   "cell_type": "code",
   "execution_count": 14,
   "metadata": {
    "collapsed": false
   },
   "outputs": [
    {
     "name": "stdout",
     "output_type": "stream",
     "text": [
      "root\n",
      " |-- barcodevalue: string (nullable = true)\n",
      " |-- basisofrecord: string (nullable = true)\n",
      " |-- bed: string (nullable = true)\n",
      " |-- canonicalname: string (nullable = true)\n",
      " |-- catalognumber: string (nullable = true)\n",
      " |-- class: string (nullable = true)\n",
      " |-- collectioncode: string (nullable = true)\n",
      " |-- collectionid: string (nullable = true)\n",
      " |-- collectionname: string (nullable = true)\n",
      " |-- collector: string (nullable = true)\n",
      " |-- commonname: string (nullable = true)\n",
      " |-- continent: string (nullable = true)\n",
      " |-- coordinateuncertainty: float (nullable = true)\n",
      " |-- country: string (nullable = true)\n",
      " |-- countrycode: string (nullable = true)\n",
      " |-- county: string (nullable = true)\n",
      " |-- data: struct (nullable = true)\n",
      " |    |-- coreid: string (nullable = true)\n",
      " |    |-- dc:rights: string (nullable = true)\n",
      " |    |-- dcterms:accessRights: string (nullable = true)\n",
      " |    |-- dcterms:bibliographicCitation: string (nullable = true)\n",
      " |    |-- dcterms:language: string (nullable = true)\n",
      " |    |-- dcterms:license: string (nullable = true)\n",
      " |    |-- dcterms:modified: string (nullable = true)\n",
      " |    |-- dcterms:references: string (nullable = true)\n",
      " |    |-- dcterms:rights: string (nullable = true)\n",
      " |    |-- dcterms:rightsHolder: string (nullable = true)\n",
      " |    |-- dcterms:source: string (nullable = true)\n",
      " |    |-- dcterms:type: string (nullable = true)\n",
      " |    |-- dwc:VerbatimEventDate: string (nullable = true)\n",
      " |    |-- dwc:acceptedNameUsage: string (nullable = true)\n",
      " |    |-- dwc:accessRights: string (nullable = true)\n",
      " |    |-- dwc:associatedMedia: string (nullable = true)\n",
      " |    |-- dwc:associatedOccurrences: string (nullable = true)\n",
      " |    |-- dwc:associatedOrganisms: string (nullable = true)\n",
      " |    |-- dwc:associatedReferences: string (nullable = true)\n",
      " |    |-- dwc:associatedSequences: string (nullable = true)\n",
      " |    |-- dwc:associatedTaxa: string (nullable = true)\n",
      " |    |-- dwc:basisOfRecord: string (nullable = true)\n",
      " |    |-- dwc:bed: string (nullable = true)\n",
      " |    |-- dwc:behavior: string (nullable = true)\n",
      " |    |-- dwc:catalogNumber: string (nullable = true)\n",
      " |    |-- dwc:class: string (nullable = true)\n",
      " |    |-- dwc:classs: string (nullable = true)\n",
      " |    |-- dwc:collectionCode: string (nullable = true)\n",
      " |    |-- dwc:collectionID: string (nullable = true)\n",
      " |    |-- dwc:continent: string (nullable = true)\n",
      " |    |-- dwc:coordinatePrecision: string (nullable = true)\n",
      " |    |-- dwc:coordinateUncertaintyInMeters: string (nullable = true)\n",
      " |    |-- dwc:country: string (nullable = true)\n",
      " |    |-- dwc:countryCode: string (nullable = true)\n",
      " |    |-- dwc:county: string (nullable = true)\n",
      " |    |-- dwc:dataGeneralizations: string (nullable = true)\n",
      " |    |-- dwc:datasetID: string (nullable = true)\n",
      " |    |-- dwc:datasetName: string (nullable = true)\n",
      " |    |-- dwc:dateIdentified: string (nullable = true)\n",
      " |    |-- dwc:day: string (nullable = true)\n",
      " |    |-- dwc:decimalLatitude: string (nullable = true)\n",
      " |    |-- dwc:decimalLongitude: string (nullable = true)\n",
      " |    |-- dwc:disposition: string (nullable = true)\n",
      " |    |-- dwc:dynamicProperties: string (nullable = true)\n",
      " |    |-- dwc:earliestAgeOrLowestStage: string (nullable = true)\n",
      " |    |-- dwc:earliestEonOrLowestEonothem: string (nullable = true)\n",
      " |    |-- dwc:earliestEpochOrLowestSeries: string (nullable = true)\n",
      " |    |-- dwc:earliestEraOrLowestErathem: string (nullable = true)\n",
      " |    |-- dwc:earliestPeriodOrLowestSystem: string (nullable = true)\n",
      " |    |-- dwc:endDayOfYear: string (nullable = true)\n",
      " |    |-- dwc:establishmentMeans: string (nullable = true)\n",
      " |    |-- dwc:eventDate: string (nullable = true)\n",
      " |    |-- dwc:eventID: string (nullable = true)\n",
      " |    |-- dwc:eventRemarks: string (nullable = true)\n",
      " |    |-- dwc:eventTime: string (nullable = true)\n",
      " |    |-- dwc:family: string (nullable = true)\n",
      " |    |-- dwc:fieldNotes: string (nullable = true)\n",
      " |    |-- dwc:fieldNumber: string (nullable = true)\n",
      " |    |-- dwc:footprintSRS: string (nullable = true)\n",
      " |    |-- dwc:footprintSpatialFit: string (nullable = true)\n",
      " |    |-- dwc:footprintWKT: string (nullable = true)\n",
      " |    |-- dwc:formation: string (nullable = true)\n",
      " |    |-- dwc:genus: string (nullable = true)\n",
      " |    |-- dwc:geodeticDatum: string (nullable = true)\n",
      " |    |-- dwc:geologicalContextID: string (nullable = true)\n",
      " |    |-- dwc:georeferenceProtocol: string (nullable = true)\n",
      " |    |-- dwc:georeferenceRemarks: string (nullable = true)\n",
      " |    |-- dwc:georeferenceSources: string (nullable = true)\n",
      " |    |-- dwc:georeferenceVerificationStatus: string (nullable = true)\n",
      " |    |-- dwc:georeferencedBy: string (nullable = true)\n",
      " |    |-- dwc:georeferencedDate: string (nullable = true)\n",
      " |    |-- dwc:group: string (nullable = true)\n",
      " |    |-- dwc:habitat: string (nullable = true)\n",
      " |    |-- dwc:higherClassification: string (nullable = true)\n",
      " |    |-- dwc:higherGeography: string (nullable = true)\n",
      " |    |-- dwc:higherGeographyID: string (nullable = true)\n",
      " |    |-- dwc:highestBiostratigraphicZone: string (nullable = true)\n",
      " |    |-- dwc:identificationID: string (nullable = true)\n",
      " |    |-- dwc:identificationQualifier: string (nullable = true)\n",
      " |    |-- dwc:identificationReferences: string (nullable = true)\n",
      " |    |-- dwc:identificationRemarks: string (nullable = true)\n",
      " |    |-- dwc:identificationVerificationStatus: string (nullable = true)\n",
      " |    |-- dwc:identifiedBy: string (nullable = true)\n",
      " |    |-- dwc:individualCount: string (nullable = true)\n",
      " |    |-- dwc:informationWithheld: string (nullable = true)\n",
      " |    |-- dwc:infraspecificEpithet: string (nullable = true)\n",
      " |    |-- dwc:institutionCode: string (nullable = true)\n",
      " |    |-- dwc:institutionID: string (nullable = true)\n",
      " |    |-- dwc:island: string (nullable = true)\n",
      " |    |-- dwc:islandGroup: string (nullable = true)\n",
      " |    |-- dwc:kingdom: string (nullable = true)\n",
      " |    |-- dwc:language: string (nullable = true)\n",
      " |    |-- dwc:latestAgeOrHighestStage: string (nullable = true)\n",
      " |    |-- dwc:latestEonOrHighestEonothem: string (nullable = true)\n",
      " |    |-- dwc:latestEpochOrHighestSeries: string (nullable = true)\n",
      " |    |-- dwc:latestEraOrHighestErathem: string (nullable = true)\n",
      " |    |-- dwc:latestPeriodOrHighestSystem: string (nullable = true)\n",
      " |    |-- dwc:lifeStage: string (nullable = true)\n",
      " |    |-- dwc:lithostratigraphicTerms: string (nullable = true)\n",
      " |    |-- dwc:locality: string (nullable = true)\n",
      " |    |-- dwc:locationAccordingTo: string (nullable = true)\n",
      " |    |-- dwc:locationID: string (nullable = true)\n",
      " |    |-- dwc:locationRemarks: string (nullable = true)\n",
      " |    |-- dwc:lowestBiostratigraphicZone: string (nullable = true)\n",
      " |    |-- dwc:materialSampleID: string (nullable = true)\n",
      " |    |-- dwc:maximumDepthInMeters: string (nullable = true)\n",
      " |    |-- dwc:maximumElevationInMeters: string (nullable = true)\n",
      " |    |-- dwc:member: string (nullable = true)\n",
      " |    |-- dwc:minimumDepthInMeters: string (nullable = true)\n",
      " |    |-- dwc:minimumElevationInMeters: string (nullable = true)\n",
      " |    |-- dwc:modified: string (nullable = true)\n",
      " |    |-- dwc:month: string (nullable = true)\n",
      " |    |-- dwc:municipality: string (nullable = true)\n",
      " |    |-- dwc:nameAccordingTo: string (nullable = true)\n",
      " |    |-- dwc:nameAccordingToID: string (nullable = true)\n",
      " |    |-- dwc:namePublishedIn: string (nullable = true)\n",
      " |    |-- dwc:namePublishedInID: string (nullable = true)\n",
      " |    |-- dwc:namePublishedInYear: string (nullable = true)\n",
      " |    |-- dwc:nomenclaturalCode: string (nullable = true)\n",
      " |    |-- dwc:nomenclaturalStatus: string (nullable = true)\n",
      " |    |-- dwc:occurrenceDetails: string (nullable = true)\n",
      " |    |-- dwc:occurrenceID: string (nullable = true)\n",
      " |    |-- dwc:occurrenceRemarks: string (nullable = true)\n",
      " |    |-- dwc:occurrenceStatus: string (nullable = true)\n",
      " |    |-- dwc:order: string (nullable = true)\n",
      " |    |-- dwc:organismID: string (nullable = true)\n",
      " |    |-- dwc:organismName: string (nullable = true)\n",
      " |    |-- dwc:organismQuantity: string (nullable = true)\n",
      " |    |-- dwc:organismQuantityType: string (nullable = true)\n",
      " |    |-- dwc:originalNameUsage: string (nullable = true)\n",
      " |    |-- dwc:otherCatalogNumbers: string (nullable = true)\n",
      " |    |-- dwc:ownerInstitutionCode: string (nullable = true)\n",
      " |    |-- dwc:parentNameUsage: string (nullable = true)\n",
      " |    |-- dwc:phylum: string (nullable = true)\n",
      " |    |-- dwc:pointRadiusSpatialFit: string (nullable = true)\n",
      " |    |-- dwc:preparations: string (nullable = true)\n",
      " |    |-- dwc:previousIdentifications: string (nullable = true)\n",
      " |    |-- dwc:recordNumber: string (nullable = true)\n",
      " |    |-- dwc:recordedBy: string (nullable = true)\n",
      " |    |-- dwc:reproductiveCondition: string (nullable = true)\n",
      " |    |-- dwc:rights: string (nullable = true)\n",
      " |    |-- dwc:rightsHolder: string (nullable = true)\n",
      " |    |-- dwc:samplingEffort: string (nullable = true)\n",
      " |    |-- dwc:samplingProtocol: string (nullable = true)\n",
      " |    |-- dwc:scientificName: string (nullable = true)\n",
      " |    |-- dwc:scientificNameAuthorship: string (nullable = true)\n",
      " |    |-- dwc:scientificNameID: string (nullable = true)\n",
      " |    |-- dwc:sex: string (nullable = true)\n",
      " |    |-- dwc:specificEpithet: string (nullable = true)\n",
      " |    |-- dwc:startDayOfYear: string (nullable = true)\n",
      " |    |-- dwc:stateProvince: string (nullable = true)\n",
      " |    |-- dwc:subgenus: string (nullable = true)\n",
      " |    |-- dwc:taxonID: string (nullable = true)\n",
      " |    |-- dwc:taxonRank: string (nullable = true)\n",
      " |    |-- dwc:taxonRemarks: string (nullable = true)\n",
      " |    |-- dwc:taxonomicStatus: string (nullable = true)\n",
      " |    |-- dwc:typeStatus: string (nullable = true)\n",
      " |    |-- dwc:verbatimCoordinateSystem: string (nullable = true)\n",
      " |    |-- dwc:verbatimCoordinates: string (nullable = true)\n",
      " |    |-- dwc:verbatimDepth: string (nullable = true)\n",
      " |    |-- dwc:verbatimElevation: string (nullable = true)\n",
      " |    |-- dwc:verbatimEventDate: string (nullable = true)\n",
      " |    |-- dwc:verbatimLatitude: string (nullable = true)\n",
      " |    |-- dwc:verbatimLocality: string (nullable = true)\n",
      " |    |-- dwc:verbatimLongitude: string (nullable = true)\n",
      " |    |-- dwc:verbatimSRS: string (nullable = true)\n",
      " |    |-- dwc:verbatimTaxonRank: string (nullable = true)\n",
      " |    |-- dwc:vernacularName: string (nullable = true)\n",
      " |    |-- dwc:waterBody: string (nullable = true)\n",
      " |    |-- dwc:year: string (nullable = true)\n",
      " |    |-- id: string (nullable = true)\n",
      " |    |-- idigbio:recordId: string (nullable = true)\n",
      " |    |-- symbiota:recordEnteredBy: string (nullable = true)\n",
      " |    |-- symbiota:verbatimScientificName: string (nullable = true)\n",
      " |-- datasetid: string (nullable = true)\n",
      " |-- datecollected: timestamp (nullable = true)\n",
      " |-- datemodified: timestamp (nullable = true)\n",
      " |-- dqs: float (nullable = true)\n",
      " |-- earliestageorloweststage: string (nullable = true)\n",
      " |-- earliesteonorlowesteonothem: string (nullable = true)\n",
      " |-- earliestepochorlowestseries: string (nullable = true)\n",
      " |-- earliesteraorlowesterathem: string (nullable = true)\n",
      " |-- earliestperiodorlowestsystem: string (nullable = true)\n",
      " |-- etag: string (nullable = true)\n",
      " |-- eventdate: string (nullable = true)\n",
      " |-- family: string (nullable = true)\n",
      " |-- fieldnumber: string (nullable = true)\n",
      " |-- formation: string (nullable = true)\n",
      " |-- genus: string (nullable = true)\n",
      " |-- geologicalcontextid: string (nullable = true)\n",
      " |-- geopoint: struct (nullable = true)\n",
      " |    |-- lat: double (nullable = true)\n",
      " |    |-- lon: double (nullable = true)\n",
      " |-- group: string (nullable = true)\n",
      " |-- hasImage: boolean (nullable = true)\n",
      " |-- hasMedia: boolean (nullable = true)\n",
      " |-- highertaxon: string (nullable = true)\n",
      " |-- highestbiostratigraphiczone: string (nullable = true)\n",
      " |-- individualcount: float (nullable = true)\n",
      " |-- infraspecificepithet: string (nullable = true)\n",
      " |-- institutioncode: string (nullable = true)\n",
      " |-- institutionid: string (nullable = true)\n",
      " |-- institutionname: string (nullable = true)\n",
      " |-- kingdom: string (nullable = true)\n",
      " |-- latestageorhigheststage: string (nullable = true)\n",
      " |-- latesteonorhighesteonothem: string (nullable = true)\n",
      " |-- latestepochorhighestseries: string (nullable = true)\n",
      " |-- latesteraorhighesterathem: string (nullable = true)\n",
      " |-- latestperiodorhighestsystem: string (nullable = true)\n",
      " |-- lithostratigraphicterms: string (nullable = true)\n",
      " |-- locality: string (nullable = true)\n",
      " |-- lowestbiostratigraphiczone: string (nullable = true)\n",
      " |-- maxdepth: float (nullable = true)\n",
      " |-- maxelevation: float (nullable = true)\n",
      " |-- member: string (nullable = true)\n",
      " |-- mindepth: float (nullable = true)\n",
      " |-- minelevation: float (nullable = true)\n",
      " |-- municipality: string (nullable = true)\n",
      " |-- occurrenceid: string (nullable = true)\n",
      " |-- order: string (nullable = true)\n",
      " |-- phylum: string (nullable = true)\n",
      " |-- recordnumber: string (nullable = true)\n",
      " |-- recordset: string (nullable = true)\n",
      " |-- scientificname: string (nullable = true)\n",
      " |-- specificepithet: string (nullable = true)\n",
      " |-- startdayofyear: integer (nullable = true)\n",
      " |-- stateprovince: string (nullable = true)\n",
      " |-- taxonid: string (nullable = true)\n",
      " |-- taxonomicstatus: string (nullable = true)\n",
      " |-- taxonrank: string (nullable = true)\n",
      " |-- typestatus: string (nullable = true)\n",
      " |-- t2_uuid: string (nullable = true)\n",
      " |-- verbatimeventdate: string (nullable = true)\n",
      " |-- verbatimlocality: string (nullable = true)\n",
      " |-- version: integer (nullable = true)\n",
      " |-- waterbody: string (nullable = true)\n",
      " |-- t1_uuid: string (nullable = true)\n",
      "\n"
     ]
    }
   ],
   "source": [
    "added.printSchema()"
   ]
  },
  {
   "cell_type": "code",
   "execution_count": 15,
   "metadata": {
    "collapsed": false
   },
   "outputs": [
    {
     "name": "stdout",
     "output_type": "stream",
     "text": [
      "+------------------------------------+-------+\n",
      "|t2_uuid                             |t1_uuid|\n",
      "+------------------------------------+-------+\n",
      "|0000075c-4e94-4a42-9be4-fbd32201c71f|null   |\n",
      "|0000095f-2150-4d4a-aee3-2c4622474587|null   |\n",
      "|00000e6c-ad9d-4476-8025-47ad4e886336|null   |\n",
      "+------------------------------------+-------+\n",
      "only showing top 3 rows\n",
      "\n"
     ]
    }
   ],
   "source": [
    "added.select(col(\"t2_uuid\"), col(\"t1_uuid\")).orderBy(col(\"t2_uuid\")).show(3, truncate=False)"
   ]
  },
  {
   "cell_type": "code",
   "execution_count": 16,
   "metadata": {
    "collapsed": true
   },
   "outputs": [],
   "source": [
    "a_added_uuid = \"0000075c-4e94-4a42-9be4-fbd32201c71f\""
   ]
  },
  {
   "cell_type": "code",
   "execution_count": 17,
   "metadata": {
    "collapsed": false
   },
   "outputs": [
    {
     "name": "stdout",
     "output_type": "stream",
     "text": [
      "949511\n"
     ]
    }
   ],
   "source": [
    "print(added.count())"
   ]
  },
  {
   "cell_type": "code",
   "execution_count": null,
   "metadata": {
    "collapsed": true
   },
   "outputs": [],
   "source": []
  },
  {
   "cell_type": "markdown",
   "metadata": {},
   "source": [
    "Make sure we got the join in the right direction, look for a \"added\" uuid in the first data frame, should not be there."
   ]
  },
  {
   "cell_type": "code",
   "execution_count": 19,
   "metadata": {
    "collapsed": false
   },
   "outputs": [
    {
     "name": "stdout",
     "output_type": "stream",
     "text": [
      "+-------+\n",
      "|t1_uuid|\n",
      "+-------+\n",
      "+-------+\n",
      "\n"
     ]
    }
   ],
   "source": [
    "(t1_df\n",
    " .filter(col(\"t1_uuid\") == a_added_uuid)\n",
    " .select(col(\"t1_uuid\"))\n",
    " .show()\n",
    ")"
   ]
  },
  {
   "cell_type": "markdown",
   "metadata": {},
   "source": [
    "And look for it in the second data frame, it should be there:"
   ]
  },
  {
   "cell_type": "code",
   "execution_count": 20,
   "metadata": {
    "collapsed": false
   },
   "outputs": [
    {
     "name": "stdout",
     "output_type": "stream",
     "text": [
      "+--------------------+\n",
      "|             t2_uuid|\n",
      "+--------------------+\n",
      "|0000075c-4e94-4a4...|\n",
      "+--------------------+\n",
      "\n"
     ]
    }
   ],
   "source": [
    "(t2_df\n",
    " .filter(col(\"t2_uuid\") == a_added_uuid)\n",
    " .select(col(\"t2_uuid\"))\n",
    " .show()\n",
    ")"
   ]
  },
  {
   "cell_type": "markdown",
   "metadata": {},
   "source": [
    "Added and deleted have the same number when we are testing with the sorted and limited data sets, regardless of which two we pick to difference. This is too much coincidence."
   ]
  },
  {
   "cell_type": "code",
   "execution_count": 21,
   "metadata": {
    "collapsed": false
   },
   "outputs": [
    {
     "name": "stdout",
     "output_type": "stream",
     "text": [
      "+----------+------------+\n",
      "|added_uuid|deleted_uuid|\n",
      "+----------+------------+\n",
      "+----------+------------+\n",
      "\n"
     ]
    }
   ],
   "source": [
    "(added.select(col(\"t2_uuid\").alias(\"added_uuid\"))\n",
    " .join(deleted.select(col(\"t1_uuid\").alias(\"deleted_uuid\")),\n",
    "       col(\"added_uuid\") == col(\"deleted_uuid\"))\n",
    " .show(10, truncate=False)\n",
    " )"
   ]
  },
  {
   "cell_type": "markdown",
   "metadata": {},
   "source": [
    "In thinking about this more, because we've sorted and then cut the list of UUIDs at a fixed number, if we add X new records, we're also removing X records because we're capped at only 1M records total. This is fine for testing, let's see what happens when we use the whole dataset, there should be different counts."
   ]
  },
  {
   "cell_type": "markdown",
   "metadata": {},
   "source": [
    "## Updates\n",
    "\n",
    "We'l rely on the last_mod time being correct here. Could we use this for adds too?"
   ]
  },
  {
   "cell_type": "code",
   "execution_count": 22,
   "metadata": {
    "collapsed": false
   },
   "outputs": [
    {
     "name": "stdout",
     "output_type": "stream",
     "text": [
      "2018-04-06 10:47:43.476000\n"
     ]
    }
   ],
   "source": [
    "last_updated = (t1_df\n",
    "               .select(max(col(\"datemodified\")).alias(\"last_updated\"))\n",
    "               .collect()\n",
    "                )[0][\"last_updated\"]\n",
    "print(last_updated)"
   ]
  },
  {
   "cell_type": "code",
   "execution_count": 23,
   "metadata": {
    "collapsed": false
   },
   "outputs": [],
   "source": [
    "updated = (t2_df\n",
    "          .filter(col(\"datemodified\") > last_updated)\n",
    "          )\n"
   ]
  },
  {
   "cell_type": "code",
   "execution_count": 24,
   "metadata": {
    "collapsed": false
   },
   "outputs": [
    {
     "name": "stdout",
     "output_type": "stream",
     "text": [
      "+------------------------------------+-----------------------+\n",
      "|t2_uuid                             |datemodified           |\n",
      "+------------------------------------+-----------------------+\n",
      "|7683f3be-82d5-44a7-b506-71a6a20bbfa2|2018-04-12 10:38:54.349|\n",
      "|7692b941-9baf-484e-a01a-5a544c7b482b|2018-04-12 10:38:54.377|\n",
      "|a3335eca-f514-45a6-9796-89127d2c4c87|2018-04-12 10:38:54.377|\n",
      "+------------------------------------+-----------------------+\n",
      "only showing top 3 rows\n",
      "\n"
     ]
    }
   ],
   "source": [
    "(updated\n",
    " .select(col(\"t2_uuid\"), col(\"datemodified\"))\n",
    " .orderBy(col(\"datemodified\"))\n",
    " .show(3, truncate=False)\n",
    " )"
   ]
  },
  {
   "cell_type": "code",
   "execution_count": 25,
   "metadata": {
    "collapsed": false
   },
   "outputs": [
    {
     "name": "stdout",
     "output_type": "stream",
     "text": [
      "20525304\n"
     ]
    }
   ],
   "source": [
    "print(updated.count())"
   ]
  },
  {
   "cell_type": "markdown",
   "metadata": {},
   "source": [
    "How often is ingestion run? Does it make sense that the last mod and the first changed date are so far apart? Let's group by day (maybe ingestion takes less than a day?)"
   ]
  },
  {
   "cell_type": "code",
   "execution_count": 26,
   "metadata": {
    "collapsed": false
   },
   "outputs": [],
   "source": [
    "ingestions = (t2_df\n",
    ".select(year(col(\"datemodified\")).alias(\"year\"),\n",
    "       month(col(\"datemodified\")).alias(\"month\"),\n",
    "       dayofmonth(col(\"datemodified\")).alias(\"day\"))\n",
    " .groupBy(col(\"year\"), col(\"month\"), col(\"day\"))\n",
    " .count()\n",
    " .orderBy([col(\"year\"), col(\"month\"), col(\"day\")], ascending=[False, False, False])\n",
    ")"
   ]
  },
  {
   "cell_type": "code",
   "execution_count": 27,
   "metadata": {
    "collapsed": false,
    "scrolled": true
   },
   "outputs": [
    {
     "name": "stdout",
     "output_type": "stream",
     "text": [
      "+----+-----+---+--------+\n",
      "|year|month|day|count   |\n",
      "+----+-----+---+--------+\n",
      "|2018|5    |9  |5093938 |\n",
      "|2018|4    |23 |1777326 |\n",
      "|2018|4    |16 |2371    |\n",
      "|2018|4    |13 |1457214 |\n",
      "|2018|4    |12 |12194455|\n",
      "|2018|4    |3  |51416   |\n",
      "|2018|3    |21 |150528  |\n",
      "|2018|3    |9  |475311  |\n",
      "|2018|3    |2  |3246062 |\n",
      "|2018|1    |26 |94031   |\n",
      "+----+-----+---+--------+\n",
      "only showing top 10 rows\n",
      "\n"
     ]
    }
   ],
   "source": [
    "ingestions.show(10, truncate=False)"
   ]
  },
  {
   "cell_type": "code",
   "execution_count": 28,
   "metadata": {
    "collapsed": false
   },
   "outputs": [
    {
     "name": "stdout",
     "output_type": "stream",
     "text": [
      "184941\n"
     ]
    }
   ],
   "source": [
    "print(109394 + 13159 + 23 + 16053 + 46312)"
   ]
  },
  {
   "cell_type": "markdown",
   "metadata": {},
   "source": [
    "That looks about when Dan would have been running ingestion. Do we pick up added things in the updated data frame?"
   ]
  },
  {
   "cell_type": "code",
   "execution_count": 29,
   "metadata": {
    "collapsed": false
   },
   "outputs": [
    {
     "name": "stdout",
     "output_type": "stream",
     "text": [
      "+------------------------------------+\n",
      "|t2_uuid                             |\n",
      "+------------------------------------+\n",
      "|0000075c-4e94-4a42-9be4-fbd32201c71f|\n",
      "+------------------------------------+\n",
      "\n"
     ]
    }
   ],
   "source": [
    "(updated\n",
    " .filter(col(\"t2_uuid\") == a_added_uuid)\n",
    " .select(col(\"t2_uuid\"))\n",
    " .show(3, truncate=False)\n",
    ")"
   ]
  },
  {
   "cell_type": "markdown",
   "metadata": {},
   "source": [
    "Ok, there's one, are they all there?"
   ]
  },
  {
   "cell_type": "code",
   "execution_count": 30,
   "metadata": {
    "collapsed": false
   },
   "outputs": [],
   "source": [
    "double_added = (added.select(col(\"t2_uuid\").alias(\"added_uuid\"))\n",
    "           .join(updated.select(col(\"t2_uuid\").alias(\"updated_uuid\")),\n",
    "                 col(\"added_uuid\") == col(\"updated_uuid\"), how=\"left\")\n",
    "           .filter(col(\"updated_uuid\").isNull())\n",
    "           )"
   ]
  },
  {
   "cell_type": "code",
   "execution_count": 31,
   "metadata": {
    "collapsed": false
   },
   "outputs": [
    {
     "name": "stdout",
     "output_type": "stream",
     "text": [
      "0\n"
     ]
    }
   ],
   "source": [
    "print(double_added.count())"
   ]
  },
  {
   "cell_type": "markdown",
   "metadata": {
    "collapsed": false
   },
   "source": [
    "So yup, all addeds have a matching updated."
   ]
  },
  {
   "cell_type": "markdown",
   "metadata": {},
   "source": [
    "So yup, datemodified filter does pick up all additions as well as changes. How important is it to know the difference? I want to know for stats reporting so let's track them separately anyway. Let's try this method of calculating changed instead of the above."
   ]
  },
  {
   "cell_type": "code",
   "execution_count": 32,
   "metadata": {
    "collapsed": false
   },
   "outputs": [],
   "source": [
    "only_updated = (t2_df\n",
    "                .filter((t2_df.datemodified > last_updated)) #& added.uuid.isNotNull())\n",
    "          .join(added.select(col(\"t2_uuid\").alias(\"added_uuid\")), \n",
    "                col(\"t2_uuid\") == col(\"added_uuid\"), how=\"left\")\n",
    "                .filter(col(\"added_uuid\").isNull())\n",
    "          )"
   ]
  },
  {
   "cell_type": "code",
   "execution_count": 33,
   "metadata": {
    "collapsed": false
   },
   "outputs": [
    {
     "name": "stdout",
     "output_type": "stream",
     "text": [
      "19575793\n"
     ]
    }
   ],
   "source": [
    "print(only_updated.count())"
   ]
  },
  {
   "cell_type": "code",
   "execution_count": 34,
   "metadata": {
    "collapsed": false
   },
   "outputs": [
    {
     "name": "stdout",
     "output_type": "stream",
     "text": [
      "176400\n"
     ]
    }
   ],
   "source": [
    "print(184941 - 8541)"
   ]
  },
  {
   "cell_type": "markdown",
   "metadata": {},
   "source": [
    "Hooray! Things check out execept for the wierd fact that adds and deletes are the same number. I wonder if this means that we really are changing ids or something, perhaps by coincidence there is a provider with 0... ids that they've rotated or something, ask Dan.\n",
    "\n",
    "Careful use of alias() and select() in joins has cured the weird behavior we were seeing before.\n",
    "\n",
    "Below stuff needs cleanup still, likely should be deleted now."
   ]
  },
  {
   "cell_type": "code",
   "execution_count": 35,
   "metadata": {
    "collapsed": false
   },
   "outputs": [
    {
     "ename": "AnalysisException",
     "evalue": "'USING column `uuid` cannot be resolved on the left side of the join. The left-side columns: [barcodevalue, basisofrecord, bed, canonicalname, catalognumber, class, collectioncode, collectionid, collectionname, collector, commonname, continent, coordinateuncertainty, country, countrycode, county, data, datasetid, datecollected, datemodified, dqs, earliestageorloweststage, earliesteonorlowesteonothem, earliestepochorlowestseries, earliesteraorlowesterathem, earliestperiodorlowestsystem, etag, eventdate, family, fieldnumber, formation, genus, geologicalcontextid, geopoint, group, hasImage, hasMedia, highertaxon, highestbiostratigraphiczone, individualcount, infraspecificepithet, institutioncode, institutionid, institutionname, kingdom, latestageorhigheststage, latesteonorhighesteonothem, latestepochorhighestseries, latesteraorhighesterathem, latestperiodorhighestsystem, lithostratigraphicterms, locality, lowestbiostratigraphiczone, maxdepth, maxelevation, member, mindepth, minelevation, municipality, occurrenceid, order, phylum, recordnumber, recordset, scientificname, specificepithet, startdayofyear, stateprovince, taxonid, taxonomicstatus, taxonrank, typestatus, t2_uuid, verbatimeventdate, verbatimlocality, version, waterbody];'",
     "output_type": "error",
     "traceback": [
      "\u001b[0;31m---------------------------------------------------------------------------\u001b[0m",
      "\u001b[0;31mPy4JJavaError\u001b[0m                             Traceback (most recent call last)",
      "\u001b[0;32m/opt/spark/latest/python/pyspark/sql/utils.py\u001b[0m in \u001b[0;36mdeco\u001b[0;34m(*a, **kw)\u001b[0m\n\u001b[1;32m     62\u001b[0m         \u001b[0;32mtry\u001b[0m\u001b[0;34m:\u001b[0m\u001b[0;34m\u001b[0m\u001b[0m\n\u001b[0;32m---> 63\u001b[0;31m             \u001b[0;32mreturn\u001b[0m \u001b[0mf\u001b[0m\u001b[0;34m(\u001b[0m\u001b[0;34m*\u001b[0m\u001b[0ma\u001b[0m\u001b[0;34m,\u001b[0m \u001b[0;34m**\u001b[0m\u001b[0mkw\u001b[0m\u001b[0;34m)\u001b[0m\u001b[0;34m\u001b[0m\u001b[0m\n\u001b[0m\u001b[1;32m     64\u001b[0m         \u001b[0;32mexcept\u001b[0m \u001b[0mpy4j\u001b[0m\u001b[0;34m.\u001b[0m\u001b[0mprotocol\u001b[0m\u001b[0;34m.\u001b[0m\u001b[0mPy4JJavaError\u001b[0m \u001b[0;32mas\u001b[0m \u001b[0me\u001b[0m\u001b[0;34m:\u001b[0m\u001b[0;34m\u001b[0m\u001b[0m\n",
      "\u001b[0;32m/opt/spark/latest/python/lib/py4j-latest-src.zip/py4j/protocol.py\u001b[0m in \u001b[0;36mget_return_value\u001b[0;34m(answer, gateway_client, target_id, name)\u001b[0m\n\u001b[1;32m    318\u001b[0m                     \u001b[0;34m\"An error occurred while calling {0}{1}{2}.\\n\"\u001b[0m\u001b[0;34m.\u001b[0m\u001b[0;34m\u001b[0m\u001b[0m\n\u001b[0;32m--> 319\u001b[0;31m                     format(target_id, \".\", name), value)\n\u001b[0m\u001b[1;32m    320\u001b[0m             \u001b[0;32melse\u001b[0m\u001b[0;34m:\u001b[0m\u001b[0;34m\u001b[0m\u001b[0m\n",
      "\u001b[0;31mPy4JJavaError\u001b[0m: An error occurred while calling o283.join.\n: org.apache.spark.sql.AnalysisException: USING column `uuid` cannot be resolved on the left side of the join. The left-side columns: [barcodevalue, basisofrecord, bed, canonicalname, catalognumber, class, collectioncode, collectionid, collectionname, collector, commonname, continent, coordinateuncertainty, country, countrycode, county, data, datasetid, datecollected, datemodified, dqs, earliestageorloweststage, earliesteonorlowesteonothem, earliestepochorlowestseries, earliesteraorlowesterathem, earliestperiodorlowestsystem, etag, eventdate, family, fieldnumber, formation, genus, geologicalcontextid, geopoint, group, hasImage, hasMedia, highertaxon, highestbiostratigraphiczone, individualcount, infraspecificepithet, institutioncode, institutionid, institutionname, kingdom, latestageorhigheststage, latesteonorhighesteonothem, latestepochorhighestseries, latesteraorhighesterathem, latestperiodorhighestsystem, lithostratigraphicterms, locality, lowestbiostratigraphiczone, maxdepth, maxelevation, member, mindepth, minelevation, municipality, occurrenceid, order, phylum, recordnumber, recordset, scientificname, specificepithet, startdayofyear, stateprovince, taxonid, taxonomicstatus, taxonrank, typestatus, t2_uuid, verbatimeventdate, verbatimlocality, version, waterbody];\n\tat org.apache.spark.sql.catalyst.analysis.Analyzer$$anonfun$83$$anonfun$apply$63.apply(Analyzer.scala:2207)\n\tat org.apache.spark.sql.catalyst.analysis.Analyzer$$anonfun$83$$anonfun$apply$63.apply(Analyzer.scala:2207)\n\tat scala.Option.getOrElse(Option.scala:121)\n\tat org.apache.spark.sql.catalyst.analysis.Analyzer$$anonfun$83.apply(Analyzer.scala:2206)\n\tat org.apache.spark.sql.catalyst.analysis.Analyzer$$anonfun$83.apply(Analyzer.scala:2205)\n\tat scala.collection.TraversableLike$$anonfun$map$1.apply(TraversableLike.scala:234)\n\tat scala.collection.TraversableLike$$anonfun$map$1.apply(TraversableLike.scala:234)\n\tat scala.collection.Iterator$class.foreach(Iterator.scala:893)\n\tat scala.collection.AbstractIterator.foreach(Iterator.scala:1336)\n\tat scala.collection.IterableLike$class.foreach(IterableLike.scala:72)\n\tat scala.collection.AbstractIterable.foreach(Iterable.scala:54)\n\tat scala.collection.TraversableLike$class.map(TraversableLike.scala:234)\n\tat scala.collection.AbstractTraversable.map(Traversable.scala:104)\n\tat org.apache.spark.sql.catalyst.analysis.Analyzer.org$apache$spark$sql$catalyst$analysis$Analyzer$$commonNaturalJoinProcessing(Analyzer.scala:2205)\n\tat org.apache.spark.sql.catalyst.analysis.Analyzer$ResolveNaturalAndUsingJoin$$anonfun$apply$32.applyOrElse(Analyzer.scala:2191)\n\tat org.apache.spark.sql.catalyst.analysis.Analyzer$ResolveNaturalAndUsingJoin$$anonfun$apply$32.applyOrElse(Analyzer.scala:2188)\n\tat org.apache.spark.sql.catalyst.plans.logical.LogicalPlan$$anonfun$resolveOperators$1.apply(LogicalPlan.scala:62)\n\tat org.apache.spark.sql.catalyst.plans.logical.LogicalPlan$$anonfun$resolveOperators$1.apply(LogicalPlan.scala:62)\n\tat org.apache.spark.sql.catalyst.trees.CurrentOrigin$.withOrigin(TreeNode.scala:70)\n\tat org.apache.spark.sql.catalyst.plans.logical.LogicalPlan.resolveOperators(LogicalPlan.scala:61)\n\tat org.apache.spark.sql.catalyst.analysis.Analyzer$ResolveNaturalAndUsingJoin$.apply(Analyzer.scala:2188)\n\tat org.apache.spark.sql.catalyst.analysis.Analyzer$ResolveNaturalAndUsingJoin$.apply(Analyzer.scala:2187)\n\tat org.apache.spark.sql.catalyst.rules.RuleExecutor$$anonfun$execute$1$$anonfun$apply$1.apply(RuleExecutor.scala:85)\n\tat org.apache.spark.sql.catalyst.rules.RuleExecutor$$anonfun$execute$1$$anonfun$apply$1.apply(RuleExecutor.scala:82)\n\tat scala.collection.LinearSeqOptimized$class.foldLeft(LinearSeqOptimized.scala:124)\n\tat scala.collection.immutable.List.foldLeft(List.scala:84)\n\tat org.apache.spark.sql.catalyst.rules.RuleExecutor$$anonfun$execute$1.apply(RuleExecutor.scala:82)\n\tat org.apache.spark.sql.catalyst.rules.RuleExecutor$$anonfun$execute$1.apply(RuleExecutor.scala:74)\n\tat scala.collection.immutable.List.foreach(List.scala:381)\n\tat org.apache.spark.sql.catalyst.rules.RuleExecutor.execute(RuleExecutor.scala:74)\n\tat org.apache.spark.sql.execution.QueryExecution.analyzed$lzycompute(QueryExecution.scala:69)\n\tat org.apache.spark.sql.execution.QueryExecution.analyzed(QueryExecution.scala:67)\n\tat org.apache.spark.sql.execution.QueryExecution.assertAnalyzed(QueryExecution.scala:50)\n\tat org.apache.spark.sql.Dataset$.ofRows(Dataset.scala:66)\n\tat org.apache.spark.sql.Dataset.org$apache$spark$sql$Dataset$$withPlan(Dataset.scala:2872)\n\tat org.apache.spark.sql.Dataset.join(Dataset.scala:787)\n\tat sun.reflect.NativeMethodAccessorImpl.invoke0(Native Method)\n\tat sun.reflect.NativeMethodAccessorImpl.invoke(NativeMethodAccessorImpl.java:62)\n\tat sun.reflect.DelegatingMethodAccessorImpl.invoke(DelegatingMethodAccessorImpl.java:43)\n\tat java.lang.reflect.Method.invoke(Method.java:498)\n\tat py4j.reflection.MethodInvoker.invoke(MethodInvoker.java:244)\n\tat py4j.reflection.ReflectionEngine.invoke(ReflectionEngine.java:357)\n\tat py4j.Gateway.invoke(Gateway.java:280)\n\tat py4j.commands.AbstractCommand.invokeMethod(AbstractCommand.java:132)\n\tat py4j.commands.CallCommand.execute(CallCommand.java:79)\n\tat py4j.GatewayConnection.run(GatewayConnection.java:214)\n\tat java.lang.Thread.run(Thread.java:748)\n",
      "\nDuring handling of the above exception, another exception occurred:\n",
      "\u001b[0;31mAnalysisException\u001b[0m                         Traceback (most recent call last)",
      "\u001b[0;32m<ipython-input-35-dd1e32e85565>\u001b[0m in \u001b[0;36m<module>\u001b[0;34m()\u001b[0m\n\u001b[1;32m      1\u001b[0m only_updated2 = (updated\n\u001b[0;32m----> 2\u001b[0;31m                 \u001b[0;34m.\u001b[0m\u001b[0mjoin\u001b[0m\u001b[0;34m(\u001b[0m\u001b[0madded\u001b[0m\u001b[0;34m,\u001b[0m \u001b[0;34m\"uuid\"\u001b[0m\u001b[0;34m,\u001b[0m \u001b[0mhow\u001b[0m\u001b[0;34m=\u001b[0m\u001b[0;34m\"left\"\u001b[0m\u001b[0;34m)\u001b[0m\u001b[0;34m\u001b[0m\u001b[0m\n\u001b[0m\u001b[1;32m      3\u001b[0m                  \u001b[0;34m.\u001b[0m\u001b[0mfilter\u001b[0m\u001b[0;34m(\u001b[0m\u001b[0madded\u001b[0m\u001b[0;34m.\u001b[0m\u001b[0muuid\u001b[0m\u001b[0;34m.\u001b[0m\u001b[0misNull\u001b[0m\u001b[0;34m(\u001b[0m\u001b[0;34m)\u001b[0m\u001b[0;34m)\u001b[0m\u001b[0;34m\u001b[0m\u001b[0m\n\u001b[1;32m      4\u001b[0m                  )\n",
      "\u001b[0;32m/opt/spark/latest/python/pyspark/sql/dataframe.py\u001b[0m in \u001b[0;36mjoin\u001b[0;34m(self, other, on, how)\u001b[0m\n\u001b[1;32m    826\u001b[0m                 \u001b[0mhow\u001b[0m \u001b[0;34m=\u001b[0m \u001b[0;34m\"inner\"\u001b[0m\u001b[0;34m\u001b[0m\u001b[0m\n\u001b[1;32m    827\u001b[0m             \u001b[0;32massert\u001b[0m \u001b[0misinstance\u001b[0m\u001b[0;34m(\u001b[0m\u001b[0mhow\u001b[0m\u001b[0;34m,\u001b[0m \u001b[0mbasestring\u001b[0m\u001b[0;34m)\u001b[0m\u001b[0;34m,\u001b[0m \u001b[0;34m\"how should be basestring\"\u001b[0m\u001b[0;34m\u001b[0m\u001b[0m\n\u001b[0;32m--> 828\u001b[0;31m             \u001b[0mjdf\u001b[0m \u001b[0;34m=\u001b[0m \u001b[0mself\u001b[0m\u001b[0;34m.\u001b[0m\u001b[0m_jdf\u001b[0m\u001b[0;34m.\u001b[0m\u001b[0mjoin\u001b[0m\u001b[0;34m(\u001b[0m\u001b[0mother\u001b[0m\u001b[0;34m.\u001b[0m\u001b[0m_jdf\u001b[0m\u001b[0;34m,\u001b[0m \u001b[0mon\u001b[0m\u001b[0;34m,\u001b[0m \u001b[0mhow\u001b[0m\u001b[0;34m)\u001b[0m\u001b[0;34m\u001b[0m\u001b[0m\n\u001b[0m\u001b[1;32m    829\u001b[0m         \u001b[0;32mreturn\u001b[0m \u001b[0mDataFrame\u001b[0m\u001b[0;34m(\u001b[0m\u001b[0mjdf\u001b[0m\u001b[0;34m,\u001b[0m \u001b[0mself\u001b[0m\u001b[0;34m.\u001b[0m\u001b[0msql_ctx\u001b[0m\u001b[0;34m)\u001b[0m\u001b[0;34m\u001b[0m\u001b[0m\n\u001b[1;32m    830\u001b[0m \u001b[0;34m\u001b[0m\u001b[0m\n",
      "\u001b[0;32m/opt/spark/latest/python/lib/py4j-latest-src.zip/py4j/java_gateway.py\u001b[0m in \u001b[0;36m__call__\u001b[0;34m(self, *args)\u001b[0m\n\u001b[1;32m   1131\u001b[0m         \u001b[0manswer\u001b[0m \u001b[0;34m=\u001b[0m \u001b[0mself\u001b[0m\u001b[0;34m.\u001b[0m\u001b[0mgateway_client\u001b[0m\u001b[0;34m.\u001b[0m\u001b[0msend_command\u001b[0m\u001b[0;34m(\u001b[0m\u001b[0mcommand\u001b[0m\u001b[0;34m)\u001b[0m\u001b[0;34m\u001b[0m\u001b[0m\n\u001b[1;32m   1132\u001b[0m         return_value = get_return_value(\n\u001b[0;32m-> 1133\u001b[0;31m             answer, self.gateway_client, self.target_id, self.name)\n\u001b[0m\u001b[1;32m   1134\u001b[0m \u001b[0;34m\u001b[0m\u001b[0m\n\u001b[1;32m   1135\u001b[0m         \u001b[0;32mfor\u001b[0m \u001b[0mtemp_arg\u001b[0m \u001b[0;32min\u001b[0m \u001b[0mtemp_args\u001b[0m\u001b[0;34m:\u001b[0m\u001b[0;34m\u001b[0m\u001b[0m\n",
      "\u001b[0;32m/opt/spark/latest/python/pyspark/sql/utils.py\u001b[0m in \u001b[0;36mdeco\u001b[0;34m(*a, **kw)\u001b[0m\n\u001b[1;32m     67\u001b[0m                                              e.java_exception.getStackTrace()))\n\u001b[1;32m     68\u001b[0m             \u001b[0;32mif\u001b[0m \u001b[0ms\u001b[0m\u001b[0;34m.\u001b[0m\u001b[0mstartswith\u001b[0m\u001b[0;34m(\u001b[0m\u001b[0;34m'org.apache.spark.sql.AnalysisException: '\u001b[0m\u001b[0;34m)\u001b[0m\u001b[0;34m:\u001b[0m\u001b[0;34m\u001b[0m\u001b[0m\n\u001b[0;32m---> 69\u001b[0;31m                 \u001b[0;32mraise\u001b[0m \u001b[0mAnalysisException\u001b[0m\u001b[0;34m(\u001b[0m\u001b[0ms\u001b[0m\u001b[0;34m.\u001b[0m\u001b[0msplit\u001b[0m\u001b[0;34m(\u001b[0m\u001b[0;34m': '\u001b[0m\u001b[0;34m,\u001b[0m \u001b[0;36m1\u001b[0m\u001b[0;34m)\u001b[0m\u001b[0;34m[\u001b[0m\u001b[0;36m1\u001b[0m\u001b[0;34m]\u001b[0m\u001b[0;34m,\u001b[0m \u001b[0mstackTrace\u001b[0m\u001b[0;34m)\u001b[0m\u001b[0;34m\u001b[0m\u001b[0m\n\u001b[0m\u001b[1;32m     70\u001b[0m             \u001b[0;32mif\u001b[0m \u001b[0ms\u001b[0m\u001b[0;34m.\u001b[0m\u001b[0mstartswith\u001b[0m\u001b[0;34m(\u001b[0m\u001b[0;34m'org.apache.spark.sql.catalyst.analysis'\u001b[0m\u001b[0;34m)\u001b[0m\u001b[0;34m:\u001b[0m\u001b[0;34m\u001b[0m\u001b[0m\n\u001b[1;32m     71\u001b[0m                 \u001b[0;32mraise\u001b[0m \u001b[0mAnalysisException\u001b[0m\u001b[0;34m(\u001b[0m\u001b[0ms\u001b[0m\u001b[0;34m.\u001b[0m\u001b[0msplit\u001b[0m\u001b[0;34m(\u001b[0m\u001b[0;34m': '\u001b[0m\u001b[0;34m,\u001b[0m \u001b[0;36m1\u001b[0m\u001b[0;34m)\u001b[0m\u001b[0;34m[\u001b[0m\u001b[0;36m1\u001b[0m\u001b[0;34m]\u001b[0m\u001b[0;34m,\u001b[0m \u001b[0mstackTrace\u001b[0m\u001b[0;34m)\u001b[0m\u001b[0;34m\u001b[0m\u001b[0m\n",
      "\u001b[0;31mAnalysisException\u001b[0m: 'USING column `uuid` cannot be resolved on the left side of the join. The left-side columns: [barcodevalue, basisofrecord, bed, canonicalname, catalognumber, class, collectioncode, collectionid, collectionname, collector, commonname, continent, coordinateuncertainty, country, countrycode, county, data, datasetid, datecollected, datemodified, dqs, earliestageorloweststage, earliesteonorlowesteonothem, earliestepochorlowestseries, earliesteraorlowesterathem, earliestperiodorlowestsystem, etag, eventdate, family, fieldnumber, formation, genus, geologicalcontextid, geopoint, group, hasImage, hasMedia, highertaxon, highestbiostratigraphiczone, individualcount, infraspecificepithet, institutioncode, institutionid, institutionname, kingdom, latestageorhigheststage, latesteonorhighesteonothem, latestepochorhighestseries, latesteraorhighesterathem, latestperiodorhighestsystem, lithostratigraphicterms, locality, lowestbiostratigraphiczone, maxdepth, maxelevation, member, mindepth, minelevation, municipality, occurrenceid, order, phylum, recordnumber, recordset, scientificname, specificepithet, startdayofyear, stateprovince, taxonid, taxonomicstatus, taxonrank, typestatus, t2_uuid, verbatimeventdate, verbatimlocality, version, waterbody];'"
     ]
    }
   ],
   "source": [
    "only_updated2 = (updated\n",
    "                .join(added, \"uuid\", how=\"left\")\n",
    "                 .filter(added.uuid.isNull())\n",
    "                 )"
   ]
  },
  {
   "cell_type": "code",
   "execution_count": null,
   "metadata": {
    "collapsed": false
   },
   "outputs": [],
   "source": [
    "print(only_updated2.count())"
   ]
  },
  {
   "cell_type": "code",
   "execution_count": null,
   "metadata": {
    "collapsed": false
   },
   "outputs": [],
   "source": [
    "#(only_updated\n",
    "# .limit(3)\n",
    "#.show(3))"
   ]
  },
  {
   "cell_type": "code",
   "execution_count": null,
   "metadata": {
    "collapsed": false
   },
   "outputs": [],
   "source": [
    "(only_updated\n",
    " .filter(col(\"uuid\") == a_added_uuid)\n",
    " .select(col(\"uuid\"))\n",
    " .show()\n",
    ")"
   ]
  }
 ],
 "metadata": {
  "kernelspec": {
   "display_name": "5 - PySpark Python3 Large",
   "language": "python",
   "name": "pyspark3-large"
  },
  "language_info": {
   "codemirror_mode": {
    "name": "ipython",
    "version": 3
   },
   "file_extension": ".py",
   "mimetype": "text/x-python",
   "name": "python",
   "nbconvert_exporter": "python",
   "pygments_lexer": "ipython3",
   "version": "3.5.2"
  }
 },
 "nbformat": 4,
 "nbformat_minor": 2
}
